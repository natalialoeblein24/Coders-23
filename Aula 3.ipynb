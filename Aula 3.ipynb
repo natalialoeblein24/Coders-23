{
 "cells": [
  {
   "cell_type": "markdown",
   "id": "f917f2bd",
   "metadata": {},
   "source": [
    "Tópico da aula \n",
    "\n",
    "- Operador lógico\n",
    "- Estrutura condicional e controle de fluxo\n",
    "- Comando if\n",
    "- Comando else\n",
    "- Comando elif\n",
    "- Funções de string introdutório - opcional"
   ]
  },
  {
   "cell_type": "code",
   "execution_count": 1,
   "id": "f2f10537",
   "metadata": {},
   "outputs": [
    {
     "name": "stdout",
     "output_type": "stream",
     "text": [
      "Insira a média do aluno: 2\n",
      "Insira a presença do aluno: 0.2\n",
      "Reprovado.\n",
      "\n",
      "\n",
      "A média é 2.0 e a presença é 20.0%\n"
     ]
    }
   ],
   "source": [
    "media = float(input('Insira a média do aluno: '))\n",
    "\n",
    "presenca = float(input('Insira a presença do aluno: '))\n",
    "\n",
    "resultado = media >= 7.0 and presenca >= 0.75\n",
    "\n",
    "if resultado:\n",
    "    print('O aluno foi aprovado') #só executa se a condição acima por verdadeira\n",
    "    \n",
    "elif media >= 5 and media < 7: # ele só executa se a condição acima for falsa e essa for verdadeira\n",
    "    print('Recuperação.')\n",
    "    \n",
    "else: \n",
    "    print('Reprovado.')\n",
    "    \n",
    "#else:\n",
    "#   print('O aluno foi reprovado') #só executa se a condição for falsa\n",
    "\n",
    "print('\\n')\n",
    "\n",
    "print(f'A média é {media} e a presença é {100*presenca}%')\n",
    "\n",
    "#print('A média é', media, 'e a presença é', 100*presenca, '%')\n",
    "#print('A média é ', media, ' e a presença é ', 100*presenca, '%', sep='')\n",
    "#print('A média é {} e a presença é {}%'.format(media, 100*presenca))\n",
    "\n",
    "\n"
   ]
  },
  {
   "cell_type": "code",
   "execution_count": null,
   "id": "5c518716",
   "metadata": {},
   "outputs": [],
   "source": []
  },
  {
   "cell_type": "code",
   "execution_count": null,
   "id": "d01e00c4",
   "metadata": {},
   "outputs": [],
   "source": []
  },
  {
   "cell_type": "code",
   "execution_count": null,
   "id": "5174c9b4",
   "metadata": {},
   "outputs": [],
   "source": []
  }
 ],
 "metadata": {
  "kernelspec": {
   "display_name": "Python 3 (ipykernel)",
   "language": "python",
   "name": "python3"
  },
  "language_info": {
   "codemirror_mode": {
    "name": "ipython",
    "version": 3
   },
   "file_extension": ".py",
   "mimetype": "text/x-python",
   "name": "python",
   "nbconvert_exporter": "python",
   "pygments_lexer": "ipython3",
   "version": "3.11.5"
  }
 },
 "nbformat": 4,
 "nbformat_minor": 5
}
