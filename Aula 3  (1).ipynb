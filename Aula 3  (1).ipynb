{
 "cells": [
  {
   "cell_type": "markdown",
   "id": "32324909",
   "metadata": {},
   "source": [
    "<div style=\"background-color: lightblue; padding: 10px;\">\n",
    "    <h2> Tópicos da aula - AULA 3\n",
    "</div>\n",
    "    \n",
    "- Estruturas de repetição\n",
    "- Loop while"
   ]
  },
  {
   "cell_type": "markdown",
   "id": "bb667ebd",
   "metadata": {},
   "source": [
    "O usuário deve digitar 2 números e o programa diz qual o maior."
   ]
  },
  {
   "cell_type": "code",
   "execution_count": null,
   "id": "97a3383c",
   "metadata": {},
   "outputs": [],
   "source": [
    "num1 = int(input(\"Digite um número: \"))\n",
    "num2 = int(input(\"Digite outro número: \"))\n",
    "\n",
    "if num1 > num2:\n",
    "    print(f'O maior valor entre eles é {num1}')\n",
    "elif num2 > num1:\n",
    "    print(f'O maior valor entre eles é {num2}')\n",
    "else:\n",
    "    print(f\"Os números são iguais e tem o valor de {num1}\")"
   ]
  },
  {
   "cell_type": "code",
   "execution_count": null,
   "id": "e28a6945",
   "metadata": {},
   "outputs": [],
   "source": [
    "# Acrescentando mais um número para comparar\n",
    "\n",
    "num1 = int(input(\"Digite um número: \"))\n",
    "num2 = int(input(\"Digite outro número: \"))\n",
    "num3 = int(input(\"Digite outro número: \"))\n",
    "\n",
    "if num1 >= num2 and num1 >= num3:\n",
    "    print(f'O maior valor entre eles é {num1}')\n",
    "elif num2 >= num1 and num2 >= num3:\n",
    "    print(f'O maior valor entre eles é {num2}')\n",
    "elif num3 >= num1 and num3 >= num2:\n",
    "    print(f'O maior valor entre eles é {num3}')\n",
    "else:\n",
    "    print(f\"Nunca passo por aqui\") # se eles são iguais\n",
    "\n"
   ]
  },
  {
   "cell_type": "markdown",
   "id": "81ce4722",
   "metadata": {},
   "source": [
    "# Estruturas de Repetição\n",
    "\n",
    "Um **if** não garante que eu consigo validar o valor de um campo pois se o usuário não acertar na 2a vez, ele seguirá inválido"
   ]
  },
  {
   "cell_type": "code",
   "execution_count": null,
   "id": "b58b9be1",
   "metadata": {},
   "outputs": [],
   "source": [
    "salario = float(input(\"digite seu salário: \"))\n",
    "\n",
    "if salario < 1100:\n",
    "    salario = float(input(\"salário inválido, digite outro: \"))\n",
    "else:\n",
    "    print(\"válido\", salario)"
   ]
  },
  {
   "cell_type": "code",
   "execution_count": null,
   "id": "44cf70cb",
   "metadata": {},
   "outputs": [],
   "source": [
    "salario = float(input(\"digite seu salário: \"))\n",
    "\n",
    "if salario < 1100:\n",
    "    salario = float(input(\"salário inválido, digite outro: \"))\n",
    "if salario < 1100:\n",
    "    salario = float(input(\"salário inválido, digite outro: \")) \n",
    "else:\n",
    "    print(\"valido\", salario)"
   ]
  },
  {
   "cell_type": "code",
   "execution_count": null,
   "id": "3e5bb7c9",
   "metadata": {},
   "outputs": [],
   "source": [
    "salario = float(input(\"digite seu salário: \"))\n",
    "\n",
    "while salario < 1100: # Recebe uma expressão lógica\n",
    "    #Enquanto a expressão for verdadeira (True), ele repete as linhas que estão aqui dentro\n",
    "    salario = float(input(\"salário inválido, digite outro: \"))\n",
    "\n",
    "print(salario)"
   ]
  },
  {
   "cell_type": "markdown",
   "id": "35ed8345",
   "metadata": {},
   "source": [
    "__Obs.__: SEMPRE que eu trabalho com estrutura de repetição (**WHILE**) é NECESSÁRIO que a condição seja alterada dentro do while, SENÃO entro em looping infinito"
   ]
  },
  {
   "cell_type": "markdown",
   "id": "94d758e2",
   "metadata": {},
   "source": [
    "<div style=\"background-color: red; padding: 10px;\">\n",
    "    <h2> CUIDADO AO RODAR - é um loop infinito\n",
    "</div>"
   ]
  },
  {
   "cell_type": "code",
   "execution_count": null,
   "id": "a0cc14ab",
   "metadata": {},
   "outputs": [],
   "source": [
    "salario = float(input(\"digite seu salário: \"))\n",
    "\n",
    "while salario < 1100: \n",
    "    print(salario) # quando ele sai? quando a expressão acima fica falsa? NUNCA pois a gente não atualiza o salário\n",
    "\n",
    "# CUIDADO AO RODAR -- É UM LOOP INFINITO"
   ]
  },
  {
   "cell_type": "code",
   "execution_count": null,
   "id": "a7e24bb0",
   "metadata": {},
   "outputs": [],
   "source": [
    "# voltando para o exemplo para definir qual o maior valor\n",
    "# Digitando 0 para encerrar\n",
    "\n",
    "numero = int(input('Digite um número: '))\n",
    "maior = numero\n",
    "\n",
    "while numero != 0:\n",
    "    numero = int(input('Digite um número: '))\n",
    "    if numero > maior:\n",
    "        maior = numero\n",
    "    print(f'O maior valor é {maior}')\n",
    "\n",
    "print(f'O maior valor digitado foi {maior}')    \n",
    "\n"
   ]
  },
  {
   "cell_type": "code",
   "execution_count": null,
   "id": "db10fc4f",
   "metadata": {},
   "outputs": [],
   "source": []
  },
  {
   "cell_type": "code",
   "execution_count": null,
   "id": "042d7f76",
   "metadata": {},
   "outputs": [],
   "source": []
  },
  {
   "cell_type": "code",
   "execution_count": null,
   "id": "428d3415",
   "metadata": {},
   "outputs": [],
   "source": []
  },
  {
   "cell_type": "markdown",
   "id": "3a49c127",
   "metadata": {},
   "source": [
    "**Bora praticar!**\n",
    "\n",
    "1) Escreva um programa que solicite um número inteiro e imprima na tela todos os números de 1 até o número digitado, separado por espaços.  \n",
    "_Exemplo_  \n",
    "número digitado: 5  \n",
    "resultado esperado: 1 2 3 4 5\n",
    "\n",
    "2) Faça um programa que mostre o fatorial de um número digitado.  \n",
    "_Exemplo_  \n",
    "número digitado: 5  \n",
    "resultado esperado: 120\n",
    "\n",
    "3) Faça um programa que imprima a tabuada do 9 na tela (entre 1 e 10). Insira a conta, por exemplo, 9 * 1 = 9, sendo cada um dos valores em uma linha diferente.\n",
    "\n",
    "4) Faça um programa em que o usuário digite números quaisquer e encerrará no momento em que o valor 0 seja digitado. Ao final diga qual foi o maior número digitado.\n",
    "\n",
    "5) Faça um script que peça para o usuário digitar a idade, o salário e o sexo de uma pessoa até que as entradas digitadas sejam válidas.  \n",
    "  \n",
    "a. Idade: entre 0 e 150  \n",
    "b. Salário: maior que 0  \n",
    "c. Gênero: M, F ou Outro  \n",
    "  \n",
    "Por último imprima os dados recebidos do usuário.\n",
    "\n",
    "6) Faça uma calculadora. O usuário deve inserir qual a operação matemática ele deseja realizar e logo em seguida os dois números. O programa deve finalizar apenas quando o usuário digitar a opção \"sair\" no momento de escolha da operação matemática."
   ]
  },
  {
   "cell_type": "code",
   "execution_count": null,
   "id": "1b2f79df",
   "metadata": {},
   "outputs": [],
   "source": [
    "'''Escreva um programa que solicite um número inteiro e imprima na tela todos os números de 1 até o número digitado, \n",
    "separado por espaços.\n",
    "Exemplo\n",
    "número digitado: 5\n",
    "resultado esperado: 1 2 3 4 5'''\n",
    "\n",
    "\n",
    "\n",
    "\n",
    "\n",
    "numero = int(input(\"Digite um n°: \"))\n",
    "\n",
    "\n",
    "contador = 1 # para contar ate chegar em 1\n",
    "\n",
    "\n",
    "while contador <= numero:\n",
    "    print(contador, end=\",\") # uso do end para espaçar com virgula\n",
    "    contador += 1\n"
   ]
  },
  {
   "cell_type": "code",
   "execution_count": null,
   "id": "63b84729",
   "metadata": {},
   "outputs": [],
   "source": [
    "'''Faça um programa que mostre o fatorial de um número digitado.\n",
    "Exemplo\n",
    "número digitado: 5\n",
    "resultado esperado: 120'''\n",
    "\n",
    "numero = int(input('Insira um número: '))\n",
    "\n",
    "resultado = 1 # incia com valor 1 pois a multiplicação por 1 não alterar o valor do n° e tb serve p/ armezenar o resultado do fatorial\n",
    "count = 1 # para determinar que: conte de 1 em 1\n",
    "\n",
    "while count <= numero: # o loop continua enquanto o numero for menor ou igual que o count, que é 1\n",
    "    resultado *= count # resultado  = resultado * count\n",
    "    count += 1 # count = count + 1 \n",
    "    \n",
    "print(resultado)"
   ]
  },
  {
   "cell_type": "code",
   "execution_count": null,
   "id": "4cbf7b65",
   "metadata": {},
   "outputs": [],
   "source": [
    "'''Faça um programa que imprima a tabuada do 9 na tela (entre 1 e 10). \n",
    "Insira a conta, por exemplo, 9 * 1 = 9, sendo cada um dos valores em uma linha diferente.'''\n",
    "\n",
    "numero = int(input('Insira um n°: '))\n",
    "contador = 1 # usei para avançar até a proxima iteração\n",
    "\n",
    "while contador <= 10: # 10, pois é o n° inputado até chegar nele mesmo\n",
    "    resultado = numero * contador\n",
    "    print(f\"{numero} * {contador} = {resultado}\")\n",
    "    contador += 1\n",
    "\n"
   ]
  },
  {
   "cell_type": "code",
   "execution_count": null,
   "id": "87da92d8",
   "metadata": {},
   "outputs": [],
   "source": [
    "'''Faça um programa em que o usuário digite números quaisquer e encerrará no momento em que o valor 0 seja digitado. \n",
    "Ao final diga qual foi o maior número digitado.'''\n",
    "\n",
    "\n",
    "\n",
    "numero = int(input('Digite um número: '))\n",
    "maior = numero\n",
    "\n",
    "while numero != 0:\n",
    "    numero = int(input('Digite um número: '))\n",
    "    if numero > maior:\n",
    "        maior = numero\n",
    "    print(f'O maior valor é {maior}')\n",
    "\n",
    "# print(f'O maior valor digitado foi {maior}')    \n",
    "\n"
   ]
  },
  {
   "cell_type": "code",
   "execution_count": 8,
   "id": "88f74c69",
   "metadata": {},
   "outputs": [
    {
     "name": "stdout",
     "output_type": "stream",
     "text": [
      "Insira sua idade: 25\n",
      "Insira seu salário: 5500\n",
      "Insira seu gênero, usando \"F\" ou \"M\": f\n"
     ]
    }
   ],
   "source": [
    "'''Faça um script que peça para o usuário digitar a idade, o salário e o sexo de uma pessoa até que as entradas \n",
    "digitadas sejam válidas.\n",
    "\n",
    "a. Idade: entre 0 e 150\n",
    "b. Salário: maior que 0\n",
    "c. Gênero: M, F ou Outro'''\n",
    "\n",
    "idade = int(input('Insira sua idade: '))\n",
    "salario = float(input('Insira seu salário: '))\n",
    "genero = str(input('Insira seu gênero, usando \"F\" ou \"M\": '))\n",
    "\n",
    "while idade < 0 or idade > 150:\n",
    "    print('Idade inválida.')\n",
    "    idade = int(input('Insira sua idade novamente: '))\n",
    "\n",
    "while salario <= 0:\n",
    "    print('Salário inválido.')\n",
    "    salario = float(input('Insira seu salário novamente: '))\n",
    "\n",
    "while genero.upper() not in ['F', 'M']:\n",
    "    print('Gênero inválido.')\n",
    "    genero = str(input('Insira seu gênero novamente, usando \"F\" ou \"M\": ')).upper()\n",
    "\n",
    "    "
   ]
  },
  {
   "cell_type": "code",
   "execution_count": null,
   "id": "607c5e3d",
   "metadata": {},
   "outputs": [],
   "source": []
  },
  {
   "cell_type": "code",
   "execution_count": 7,
   "id": "2ff373f4",
   "metadata": {},
   "outputs": [
    {
     "name": "stdout",
     "output_type": "stream",
     "text": [
      "Escolha a operação que deseja fazer:\n",
      "A. Adição\n",
      "S. Subtração\n",
      "D. Divisão\n",
      "M. Multiplicação\n",
      " M\n",
      "Insira um número: 2\n",
      "Insira outro número: 2\n",
      "4.0\n"
     ]
    }
   ],
   "source": [
    "'''Faça uma calculadora. O usuário deve inserir qual a operação matemática ele deseja realizar e logo em seguida os dois números. O programa deve finalizar apenas quando o usuário digitar a opção \"sair\" \n",
    "no momento de escolha da operação matemática.'''\n",
    "\n",
    "\n",
    "operacao = input('Escolha a operação que deseja fazer:\\nA. Adição\\nS. Subtração\\nD. Divisão\\nM. Multiplicação\\n ')\n",
    "\n",
    "numero1 = float(input('Insira um número: '))\n",
    "numero2 = float(input('Insira outro número: '))\n",
    "\n",
    "soma = numero1 + numero2\n",
    "subtracao = numero1 - numero2\n",
    "\n",
    "if numero2 != 0:  # verificação para evitar divisão por zero\n",
    "    divisao = numero1 / numero2\n",
    "else:\n",
    "    divisao = \"Erro: Divisão por zero.\"\n",
    "\n",
    "multiplicacao = numero1 * numero2\n",
    "\n",
    "if operacao == \"A\":  \n",
    "    print(soma)\n",
    "    \n",
    "elif operacao == \"S\":\n",
    "    print(subtracao)\n",
    "    \n",
    "elif operacao == \"D\":\n",
    "    print(divisao)\n",
    "    \n",
    "elif operacao == \"M\":\n",
    "    print(multiplicacao)\n",
    "else:\n",
    "    print('Operação inválida. Por favor, escolha A, S, D ou M.')\n"
   ]
  },
  {
   "cell_type": "code",
   "execution_count": null,
   "id": "f5895c36",
   "metadata": {},
   "outputs": [],
   "source": []
  },
  {
   "cell_type": "code",
   "execution_count": null,
   "id": "8dddc3eb",
   "metadata": {},
   "outputs": [],
   "source": []
  }
 ],
 "metadata": {
  "kernelspec": {
   "display_name": "Python 3 (ipykernel)",
   "language": "python",
   "name": "python3"
  },
  "language_info": {
   "codemirror_mode": {
    "name": "ipython",
    "version": 3
   },
   "file_extension": ".py",
   "mimetype": "text/x-python",
   "name": "python",
   "nbconvert_exporter": "python",
   "pygments_lexer": "ipython3",
   "version": "3.11.5"
  }
 },
 "nbformat": 4,
 "nbformat_minor": 5
}
