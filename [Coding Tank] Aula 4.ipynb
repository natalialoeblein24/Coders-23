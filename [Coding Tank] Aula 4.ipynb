{
 "cells": [
  {
   "cell_type": "markdown",
   "id": "c14f675c",
   "metadata": {},
   "source": [
    "Criar um programa que a pessoa digita 10 numeros e dizermos o maior.\n",
    "E se quise o 2° maior? E o 5°?\n",
    "\n",
    "Se resolver com **Listas**\n",
    "\n",
    "São coleções de objetos do pyhton e é expressada em []"
   ]
  },
  {
   "cell_type": "code",
   "execution_count": 2,
   "id": "66898de2",
   "metadata": {},
   "outputs": [
    {
     "data": {
      "text/plain": [
       "list"
      ]
     },
     "execution_count": 2,
     "metadata": {},
     "output_type": "execute_result"
    }
   ],
   "source": [
    "lista1 = [] # lista vazia\n",
    "lista2 = [1, 2, 3, 4, ]\n",
    "lista3 = list() # função que cria uma lista vazia, neste caso\n",
    "lista4 = [1, 2.5, 3, 4] # não precisa ter elementos do mesmo tipo\n",
    "lista5 = [1, 2.0, 'três'] # lista com float, int  e str \n",
    "lista6 = [1, [2, 3]] # lista dentro de lista\n",
    "\n",
    "type(lista2)"
   ]
  },
  {
   "cell_type": "code",
   "execution_count": 3,
   "id": "924a17cc",
   "metadata": {},
   "outputs": [],
   "source": [
    "lista = [1, 3, 5, 7, 9, 11, 13, 15, 17, 21] # 10 elementos\n",
    "#índices 0  1  2  3  4  5   6    7  8   9  -> o index sempre começa com '0'"
   ]
  },
  {
   "cell_type": "code",
   "execution_count": 4,
   "id": "62f9e975",
   "metadata": {},
   "outputs": [
    {
     "data": {
      "text/plain": [
       "[1, 3, 5, 7, 9, 11, 13, 15, 17, 21]"
      ]
     },
     "execution_count": 4,
     "metadata": {},
     "output_type": "execute_result"
    }
   ],
   "source": [
    "lista # posição dos elementos é importante"
   ]
  },
  {
   "cell_type": "markdown",
   "id": "d8cc68a5",
   "metadata": {},
   "source": [
    "Funções e métodos de listas"
   ]
  },
  {
   "cell_type": "code",
   "execution_count": 5,
   "id": "4fb60833",
   "metadata": {},
   "outputs": [
    {
     "data": {
      "text/plain": [
       "10"
      ]
     },
     "execution_count": 5,
     "metadata": {},
     "output_type": "execute_result"
    }
   ],
   "source": [
    "len(lista) # mostra quantidade de elementos"
   ]
  },
  {
   "cell_type": "code",
   "execution_count": 6,
   "id": "3edada52",
   "metadata": {},
   "outputs": [
    {
     "data": {
      "text/plain": [
       "1"
      ]
     },
     "execution_count": 6,
     "metadata": {},
     "output_type": "execute_result"
    }
   ],
   "source": [
    "# Acessar os elementos da lista a partir da posição\n",
    "\n",
    "lista[0] # o numero 1 é a posição 0 da lista"
   ]
  },
  {
   "cell_type": "code",
   "execution_count": 7,
   "id": "94fb62fc",
   "metadata": {},
   "outputs": [
    {
     "data": {
      "text/plain": [
       "17"
      ]
     },
     "execution_count": 7,
     "metadata": {},
     "output_type": "execute_result"
    }
   ],
   "source": [
    "lista[8] # o elemento 17 é a posição 8 da lista"
   ]
  },
  {
   "cell_type": "code",
   "execution_count": 8,
   "id": "bd9a5198",
   "metadata": {},
   "outputs": [
    {
     "data": {
      "text/plain": [
       "21"
      ]
     },
     "execution_count": 8,
     "metadata": {},
     "output_type": "execute_result"
    }
   ],
   "source": [
    "lista[-1] # -1 acessa o elemento da última posição da lista "
   ]
  },
  {
   "cell_type": "code",
   "execution_count": 9,
   "id": "4ccafe57",
   "metadata": {},
   "outputs": [
    {
     "name": "stdout",
     "output_type": "stream",
     "text": [
      "1\n",
      "3\n",
      "5\n",
      "7\n",
      "9\n",
      "11\n",
      "13\n",
      "15\n",
      "17\n",
      "21\n"
     ]
    }
   ],
   "source": [
    "print(lista[0])\n",
    "print(lista[1])\n",
    "print(lista[2])\n",
    "print(lista[3])\n",
    "print(lista[4])\n",
    "print(lista[5])\n",
    "print(lista[6])\n",
    "print(lista[7])\n",
    "print(lista[8])\n",
    "print(lista[9])"
   ]
  },
  {
   "cell_type": "code",
   "execution_count": 16,
   "id": "edd09d2c",
   "metadata": {},
   "outputs": [
    {
     "name": "stdout",
     "output_type": "stream",
     "text": [
      "[1, 2.0, 'três']\n"
     ]
    },
    {
     "data": {
      "text/plain": [
       "int"
      ]
     },
     "execution_count": 16,
     "metadata": {},
     "output_type": "execute_result"
    }
   ],
   "source": [
    "print(lista5)\n",
    "type(lista5) # tipo da lista\n",
    "\n",
    "type(lista5[0]) # saber o tipo do elemento zero da linha"
   ]
  },
  {
   "cell_type": "code",
   "execution_count": 18,
   "id": "63071953",
   "metadata": {},
   "outputs": [
    {
     "data": {
      "text/plain": [
       "float"
      ]
     },
     "execution_count": 18,
     "metadata": {},
     "output_type": "execute_result"
    }
   ],
   "source": [
    "type(lista5[1]) # saber o tipo do elemento 1 da linha"
   ]
  },
  {
   "cell_type": "code",
   "execution_count": 21,
   "id": "f4c4c440",
   "metadata": {},
   "outputs": [
    {
     "data": {
      "text/plain": [
       "str"
      ]
     },
     "execution_count": 21,
     "metadata": {},
     "output_type": "execute_result"
    }
   ],
   "source": [
    "type(lista5[-1]) # saber o tipo do elemento 2 da linha"
   ]
  },
  {
   "cell_type": "code",
   "execution_count": 50,
   "id": "d2582c38",
   "metadata": {},
   "outputs": [
    {
     "name": "stdout",
     "output_type": "stream",
     "text": [
      "[1, 3, 5]\n",
      "[1, 3, 5]\n",
      "[13, 15, 17, 21]\n",
      "[1, 3, 5, 7, 9, 11, 13, 15]\n",
      "[3, 7, 11, 15]\n",
      "[1, 3, 5, 7, 9, 11, 13, 15, 17, 21]\n"
     ]
    }
   ],
   "source": [
    "# slice - fatiando uma lista [:]\n",
    "\n",
    "print(lista[0:3]) # lista[inicio:fim] -> se estiver vazio [:] --> pega todos os valores: **fim é exclusivo**\n",
    "print(lista[:3]) # no range de inicio: fim, nao precisa zero\n",
    "\n",
    "print(lista[6:]) # do valor 13 ate o final (ou posição 10)\n",
    "\n",
    "print(lista[:-2]) # vai ate o 15. Não entra nem 17 e nem o 21\n",
    "\n",
    "print(lista[1:8:2]) # inicio ao fim, em intervalos (2)\n",
    "\n",
    "print(lista)"
   ]
  },
  {
   "cell_type": "code",
   "execution_count": 40,
   "id": "7653f83c",
   "metadata": {},
   "outputs": [
    {
     "data": {
      "text/plain": [
       "21"
      ]
     },
     "execution_count": 40,
     "metadata": {},
     "output_type": "execute_result"
    }
   ],
   "source": [
    "max(lista)"
   ]
  },
  {
   "cell_type": "code",
   "execution_count": 39,
   "id": "70ae54f5",
   "metadata": {},
   "outputs": [
    {
     "data": {
      "text/plain": [
       "1"
      ]
     },
     "execution_count": 39,
     "metadata": {},
     "output_type": "execute_result"
    }
   ],
   "source": [
    "min(lista)"
   ]
  },
  {
   "cell_type": "code",
   "execution_count": 52,
   "id": "286b74ae",
   "metadata": {},
   "outputs": [],
   "source": [
    "# Substituir um valor da lista\n",
    "\n",
    "lista[2] = 11 # substituir o valor da posição 2  pelo valor 11"
   ]
  },
  {
   "cell_type": "code",
   "execution_count": 53,
   "id": "3688116a",
   "metadata": {},
   "outputs": [
    {
     "data": {
      "text/plain": [
       "[1, 3, 11, 7, 9, 11, 13, 15, 17, 21]"
      ]
     },
     "execution_count": 53,
     "metadata": {},
     "output_type": "execute_result"
    }
   ],
   "source": [
    "lista # posição 2 é o 3° elemento -> era 5 agora é 11"
   ]
  },
  {
   "cell_type": "code",
   "execution_count": 57,
   "id": "703eebe2",
   "metadata": {},
   "outputs": [],
   "source": [
    "# cai na prova\n",
    "\n",
    "# metodo para acrescentar valores na lista -> usando \"função\" append\n",
    "\n",
    "lista.append(99)"
   ]
  },
  {
   "cell_type": "code",
   "execution_count": 58,
   "id": "1ee05668",
   "metadata": {},
   "outputs": [
    {
     "data": {
      "text/plain": [
       "[1, 3, 11, 7, 9, 11, 13, 15, 17, 21, 10, 99]"
      ]
     },
     "execution_count": 58,
     "metadata": {},
     "output_type": "execute_result"
    }
   ],
   "source": [
    "lista # cria lista vazia a dar append a tudo que o usuario digita, por ex, digita ate chegar em 0 e dps ve o maior n°"
   ]
  },
  {
   "cell_type": "code",
   "execution_count": 60,
   "id": "3ca1abbc",
   "metadata": {},
   "outputs": [
    {
     "name": "stdout",
     "output_type": "stream",
     "text": [
      "[1, 2.5, 3, 4]\n",
      "[1, 2.0, 'três']\n"
     ]
    },
    {
     "data": {
      "text/plain": [
       "[1, 2.5, 3, 4, 1, 2.0, 'três']"
      ]
     },
     "execution_count": 60,
     "metadata": {},
     "output_type": "execute_result"
    }
   ],
   "source": [
    "# Listas funções e operações \n",
    "\n",
    "print(lista4)\n",
    "print(lista5)\n",
    "\n",
    "nova_lista = lista4 + lista5 #  junta as listas numa única só e guarda na variavel \"nova lista\"\n"
   ]
  },
  {
   "cell_type": "markdown",
   "id": "2429b836",
   "metadata": {},
   "source": [
    "Funções/métodos da lista\n",
    "\n",
    "- append -> inserir um elemento na última posição\n",
    "- insert -> inserir um elemento em certa posição\n",
    "- remove ->  remove um elemento da lista\n",
    "- pop -> \n",
    "- sort | sorted -> ordena a ordem dos elementos\n",
    "- reverse -> fazer a lista inversa, pode se usar com sort\n",
    "- index -> desdobrir o indice através do elemento\n",
    "- max, min, len\n"
   ]
  },
  {
   "cell_type": "code",
   "execution_count": 62,
   "id": "50cd25ea",
   "metadata": {},
   "outputs": [
    {
     "name": "stdout",
     "output_type": "stream",
     "text": [
      "Digita um n°: 1\n",
      "Digite um número: 2\n",
      "Digite um número: 3\n",
      "Digite um número: 0\n",
      "[1, 2, 3]\n"
     ]
    }
   ],
   "source": [
    "# como adc varios elementos a uma lista enquanto o usuario fornece valores\n",
    "# se o usuario digitar 0, finaliza o programa\n",
    "\n",
    "lista = [] # cria a lista vazia ou list()\n",
    "numero = int(input('Digita um n°: '))\n",
    "\n",
    "while numero != 0: # compara com 0, que para o processamento\n",
    "    lista.append(numero) # adicionando o n° que o usuario digitou na lista\n",
    "    numero = int(input('Digite um número: '))\n",
    "    \n",
    "print(lista)\n",
    "    "
   ]
  },
  {
   "cell_type": "markdown",
   "id": "4a9407a2",
   "metadata": {},
   "source": [
    "**Percorrer os elementos da lista**"
   ]
  },
  {
   "cell_type": "code",
   "execution_count": 67,
   "id": "515c1764",
   "metadata": {},
   "outputs": [
    {
     "name": "stdout",
     "output_type": "stream",
     "text": [
      "indice 0\n",
      "indice 1\n",
      "indice 2\n",
      "indice 3\n",
      "indice 4\n",
      "indice 5\n",
      "indice 6\n",
      "indice 7\n"
     ]
    },
    {
     "ename": "IndexError",
     "evalue": "list index out of range",
     "output_type": "error",
     "traceback": [
      "\u001b[1;31m---------------------------------------------------------------------------\u001b[0m",
      "\u001b[1;31mIndexError\u001b[0m                                Traceback (most recent call last)",
      "Cell \u001b[1;32mIn[67], line 9\u001b[0m\n\u001b[0;32m      7\u001b[0m \u001b[38;5;28;01mwhile\u001b[39;00m indice \u001b[38;5;241m<\u001b[39m\u001b[38;5;241m=\u001b[39m \u001b[38;5;28mlen\u001b[39m(numeros): \u001b[38;5;66;03m# len é o tamanho da lista\u001b[39;00m\n\u001b[0;32m      8\u001b[0m     \u001b[38;5;28mprint\u001b[39m(\u001b[38;5;124m'\u001b[39m\u001b[38;5;124mindice\u001b[39m\u001b[38;5;124m'\u001b[39m, indice)\n\u001b[1;32m----> 9\u001b[0m     soma \u001b[38;5;241m=\u001b[39m soma \u001b[38;5;241m+\u001b[39m numeros[indice]\n\u001b[0;32m     11\u001b[0m     indice \u001b[38;5;241m+\u001b[39m\u001b[38;5;241m=\u001b[39m \u001b[38;5;241m1\u001b[39m\n\u001b[0;32m     12\u001b[0m \u001b[38;5;28mprint\u001b[39m(soma)\n",
      "\u001b[1;31mIndexError\u001b[0m: list index out of range"
     ]
    }
   ],
   "source": [
    "# dada uma lista de n°, somar os elementos usando os indices\n",
    "\n",
    "numeros = [1,2,5,6,7,9,11]\n",
    "soma = 0\n",
    "indice = 0\n",
    "\n",
    "while indice <= len(numeros): # len é o tamanho da lista\n",
    "    print('indice', indice)\n",
    "    soma = soma + numeros[indice]\n",
    "    \n",
    "    indice += 1\n",
    "print(soma)"
   ]
  },
  {
   "cell_type": "code",
   "execution_count": 68,
   "id": "7dc11644",
   "metadata": {},
   "outputs": [
    {
     "data": {
      "text/plain": [
       "41"
      ]
     },
     "execution_count": 68,
     "metadata": {},
     "output_type": "execute_result"
    }
   ],
   "source": [
    "# outra forma de somar os elementos de uma lista\n",
    "\n",
    "sum(numeros)"
   ]
  },
  {
   "cell_type": "code",
   "execution_count": 69,
   "id": "2ef68934",
   "metadata": {},
   "outputs": [
    {
     "name": "stdout",
     "output_type": "stream",
     "text": [
      "1\n",
      "3\n",
      "5\n",
      "7\n",
      "9\n"
     ]
    }
   ],
   "source": [
    "# crie uma lista qualquer e imprima cada uma dos elementos usando while\n",
    "\n",
    "numeros = [1,3,5,7,9]\n",
    "indice = 0\n",
    "\n",
    "while indice < len(numeros):\n",
    "    print(numeros[indice])\n",
    "    indice += 1 "
   ]
  },
  {
   "cell_type": "code",
   "execution_count": 72,
   "id": "a9c1bfb0",
   "metadata": {},
   "outputs": [
    {
     "name": "stdout",
     "output_type": "stream",
     "text": [
      "Digite o tamanho da lista: 1\n",
      "[0]\n",
      "1\n"
     ]
    }
   ],
   "source": [
    "# Crie uma lista crescente começando de 0, com a quantidade de elementos dada pelo usuário\n",
    "\n",
    "numero = int(input('Digite o tamanho da lista: '))\n",
    "\n",
    "lista = [] # cria lista vazia\n",
    "indice = 0 \n",
    "\n",
    "while indice < numero: # enquanto indice for menor que o n° da lista inserio\n",
    "    lista.append(indice) # acrescenta o indice 0 \n",
    "    indice += 1 # condição de parada, indice for maior ou igual a 1\n",
    "    \n",
    "print(lista)\n",
    "print(len(lista))"
   ]
  },
  {
   "cell_type": "code",
   "execution_count": 76,
   "id": "018fde90",
   "metadata": {},
   "outputs": [
    {
     "name": "stdout",
     "output_type": "stream",
     "text": [
      "O range(0, 5) cria uma lista [0, 1, 3, 4, 5]\n"
     ]
    }
   ],
   "source": [
    "# poderiamos substituir por range(valor)\n",
    "\n",
    "range(5) # tem 3 passos: start, stop, step --> se tiver apenas 1 valor é stop\n",
    "\n",
    "range(0,5) # star é 0 e stop é 5\n",
    "\n",
    "print(f'O {range(0,5)} cria uma lista [0, 1, 3, 4]') # o 5 não entra, pois é exclusivo / excluido..."
   ]
  },
  {
   "cell_type": "code",
   "execution_count": 79,
   "id": "2e52d611",
   "metadata": {},
   "outputs": [
    {
     "name": "stdout",
     "output_type": "stream",
     "text": [
      "1\n",
      "3\n",
      "5\n",
      "7\n",
      "9\n",
      "1\n",
      "3\n",
      "5\n",
      "7\n",
      "9\n"
     ]
    }
   ],
   "source": [
    "numeros = [1, 3, 5, 7, 9] # tenho essa lista\n",
    "\n",
    "# imprimir todos elementos desta lista sem usar while\n",
    "\n",
    "# print(numeros[0])\n",
    "\n",
    "for i in range (5): # i de indice\n",
    "    print(numeros[i])\n",
    "    \n",
    "    \n",
    "for i in range (len(numeros)): # usando o i de indice\n",
    "    print(numeros[i])\n",
    "    "
   ]
  },
  {
   "cell_type": "code",
   "execution_count": 80,
   "id": "5e594fb5",
   "metadata": {},
   "outputs": [
    {
     "name": "stdout",
     "output_type": "stream",
     "text": [
      "1\n",
      "3\n",
      "5\n",
      "7\n",
      "9\n"
     ]
    }
   ],
   "source": [
    "# Mais uma forma de usar o for percorrendo cada item da lista\n",
    "\n",
    "numeros = [1, 3, 5, 7, 9]\n",
    "\n",
    "for item in numeros:\n",
    "    print(item) # percorrendo usando o elemento"
   ]
  },
  {
   "cell_type": "code",
   "execution_count": 83,
   "id": "4366fe32",
   "metadata": {},
   "outputs": [],
   "source": [
    "# para copiar uma lista\n",
    "\n",
    "lista = lista1 # não fazemos. assim estamos apontando para o mesmo espaço de memória\n",
    "\n",
    "lista = lista1[:] #copiando uma lista para outra variável \n"
   ]
  },
  {
   "cell_type": "code",
   "execution_count": 84,
   "id": "dfd14ebd",
   "metadata": {},
   "outputs": [
    {
     "name": "stdout",
     "output_type": "stream",
     "text": [
      "a\n",
      "b\n",
      "c\n",
      "d\n"
     ]
    }
   ],
   "source": [
    "# Crie uma lista qualquer e faça um programa que imprima aada elemento usando o for\n",
    "\n",
    "lista01 = ['a','b','c','d']\n",
    "\n",
    "for item in lista01: # item é uma variável \n",
    "    print(item)"
   ]
  },
  {
   "cell_type": "code",
   "execution_count": 86,
   "id": "91941dab",
   "metadata": {},
   "outputs": [
    {
     "name": "stdout",
     "output_type": "stream",
     "text": [
      "Item: a\n",
      "Item: b\n",
      "Item: c\n",
      "Item: d\n"
     ]
    }
   ],
   "source": [
    "# 2. Faça um progrma que imprima todos os itens de uma lista usando while e compare com exer. 1\n",
    "\n",
    "lista01 = ['a','b','c','d']\n",
    "\n",
    "indice = 0 # precisa controlar o while para não dar loop\n",
    "\n",
    "while indice < len(lista01):\n",
    "    print(f'Item: {lista01[indice]}')\n",
    "    indice += 1"
   ]
  },
  {
   "cell_type": "code",
   "execution_count": 88,
   "id": "cefab1f3",
   "metadata": {},
   "outputs": [
    {
     "name": "stdout",
     "output_type": "stream",
     "text": [
      "n = 4\n",
      "[0, 1, 2, 3]\n"
     ]
    }
   ],
   "source": [
    "# 3. Faça uma programa que peça para o user digitar um n° e N imprima uma lista com todos numeros de 0 a n-1.\n",
    "\n",
    "n = int(input('n = '))\n",
    "\n",
    "lista = list(range(n))\n",
    "\n",
    "print(lista)"
   ]
  },
  {
   "cell_type": "code",
   "execution_count": 91,
   "id": "0e81ba7b",
   "metadata": {},
   "outputs": [
    {
     "name": "stdout",
     "output_type": "stream",
     "text": [
      "5\n"
     ]
    }
   ],
   "source": [
    "# 4. Faça um programa que olhe todos itens de uma lista e difg quantos são pares\n",
    "\n",
    "numeros = [1, 2, 3, 4, 5, 6 ,7, 8, 9, 10]\n",
    "\n",
    "pares = 0\n",
    "\n",
    "for elemento in numeros:\n",
    "    if elemento % 2 == 0:\n",
    "        pares += 1    \n",
    "print(pares)\n"
   ]
  },
  {
   "cell_type": "code",
   "execution_count": 96,
   "id": "344d9c16",
   "metadata": {},
   "outputs": [
    {
     "data": {
      "text/plain": [
       "5"
      ]
     },
     "execution_count": 96,
     "metadata": {},
     "output_type": "execute_result"
    }
   ],
   "source": [
    "# 5 Faça um programa que imprima o maior numero de uma lista sem usar o max\n",
    "\n",
    "lista = [1,2,3,4,5]\n",
    "\n",
    "sorted(lista)[-1]"
   ]
  },
  {
   "cell_type": "code",
   "execution_count": 99,
   "id": "a33bc4e1",
   "metadata": {},
   "outputs": [
    {
     "name": "stdout",
     "output_type": "stream",
     "text": [
      "5\n",
      "4\n",
      "3\n"
     ]
    }
   ],
   "source": [
    "# 6. Agora usando max() faça um programa que imprima três maiores numeros de uma lista\n",
    "\n",
    "lista = [1,2,3,4,5]\n",
    "\n",
    "for i in range(3): # iterar de 0 a 3 (0,1, e 2)\n",
    "    maior_numero = max(lista)\n",
    "    print(maior_numero)\n",
    "    lista.remove(maior_numero) # remove o maior valor da lista para depois pegar o segundo"
   ]
  },
  {
   "cell_type": "code",
   "execution_count": 101,
   "id": "894ec9b3",
   "metadata": {},
   "outputs": [
    {
     "name": "stdout",
     "output_type": "stream",
     "text": [
      "[3, 4, 6]\n"
     ]
    }
   ],
   "source": [
    "'''7. Faça um programa que, dadas duas listas de mesmo tamanho, crie uma nova lista com cada elemento \n",
    "igual a soma dos elementos da lista 1 com os da lista 2, na mesma posição.\n",
    "'''\n",
    "\n",
    "lista1 = [1,2,3]\n",
    "lista2 = [2,2,3]\n",
    "lista3 = []\n",
    "\n",
    "if len(lista1) != len(lista2): # se o tamanho da lista1 for diferente do tamanho da lista2 - imprime que tamanhos diferentes\n",
    "    print(\"As listas tem tamanhos diferentes!\")\n",
    "else:\n",
    "    for i in range(len(lista1)): # percorrer elementos da lista\n",
    "        valor = lista1[i] + lista2[i] # somando elementos da lista e guardando na variavel 'valor'\n",
    "        lista3.append(valor) # colocando dentro da lista3\n",
    "    print(lista3)"
   ]
  },
  {
   "cell_type": "code",
   "execution_count": 102,
   "id": "d0732728",
   "metadata": {},
   "outputs": [
    {
     "name": "stdout",
     "output_type": "stream",
     "text": [
      "14\n"
     ]
    }
   ],
   "source": [
    "'''8. Faça um programa que dadas duas listas de mesmo tamanho, imprima o produto escalar entre elas. '''\n",
    "\n",
    "lista1 = [1, 2, 3]\n",
    "lista2 = [1, 2, 3]\n",
    "soma = 0 3 # variavel para guardar a soma\n",
    "\n",
    "for i in range(len(lista1)): # iterando sobre os indices usando o loop do for\n",
    "    soma = soma + lista1[i]*lista2[i] # multiplica os elementos das listas e soma \n",
    "print(soma)"
   ]
  },
  {
   "cell_type": "code",
   "execution_count": 7,
   "id": "10d32ef2",
   "metadata": {},
   "outputs": [
    {
     "name": "stdout",
     "output_type": "stream",
     "text": [
      "Digite o 1° número da lista: 1\n",
      "Digite o 2° número da lista: 2\n",
      "Digite o 3° número da lista: 3\n",
      "Digite o 4° número da lista: 4\n",
      "Digite o 5° número da lista: 5\n",
      "['1', '2', '3', '4', '5']\n"
     ]
    }
   ],
   "source": [
    "'''Faça um programa que pede para o usuário digitar 5 números e, ao final, imprime uma lista com os 5 números digitados \n",
    "pelo usuário (sem converter os números para int ou float).'''\n",
    "\n",
    "numero1 = input('Digite o 1° número da lista: ')\n",
    "numero2 = input('Digite o 2° número da lista: ')\n",
    "numero3 = input('Digite o 3° número da lista: ')\n",
    "numero4 = input('Digite o 4° número da lista: ')\n",
    "numero5 = input('Digite o 5° número da lista: ')\n",
    "\n",
    "lista = list([numero1, numero2, numero3, numero4, numero5])\n",
    "\n",
    "print(lista)\n",
    "\n",
    "# Resolução da professora:\n",
    "\n",
    "# lista = [] # cria variavel vazia da lista\n",
    "# for i in range(5): \n",
    "#    num = input(\"Digite um número: \")\n",
    "#    lista.append(num) # adiciona o numero a lista 'append'\n",
    "# print(lista)\n"
   ]
  },
  {
   "cell_type": "code",
   "execution_count": null,
   "id": "ad66201d",
   "metadata": {},
   "outputs": [],
   "source": [
    "'''10. Pegue a lista gerada no exercício anterior e transforme cada um dos itens dessa lista em um float.'''"
   ]
  },
  {
   "cell_type": "code",
   "execution_count": 10,
   "id": "266df6ad",
   "metadata": {},
   "outputs": [
    {
     "name": "stdout",
     "output_type": "stream",
     "text": [
      "1.0\n",
      "2.0\n",
      "3.0\n",
      "4.0\n",
      "5.0\n"
     ]
    }
   ],
   "source": [
    "for elemento in lista:\n",
    "    print(float(elemento))\n"
   ]
  },
  {
   "cell_type": "code",
   "execution_count": 11,
   "id": "9719aafa",
   "metadata": {},
   "outputs": [
    {
     "name": "stdout",
     "output_type": "stream",
     "text": [
      "Digite a nota: 1\n",
      "Digite a nota: 2\n",
      "Digite a nota: 3\n",
      "Digite a nota: 4\n",
      "2.5\n"
     ]
    }
   ],
   "source": [
    "'''11. Faça um Programa que peça as 4 notas bimestrais e mostre a média, usando listas.'''\n",
    "\n",
    "lista = []\n",
    "\n",
    "for i in range(4):\n",
    "    nota = float(input(\"Digite a nota: \"))\n",
    "    lista.append(nota)\n",
    "print(sum(lista) / len(lista))"
   ]
  },
  {
   "cell_type": "code",
   "execution_count": null,
   "id": "934107de",
   "metadata": {},
   "outputs": [],
   "source": []
  }
 ],
 "metadata": {
  "kernelspec": {
   "display_name": "Python 3 (ipykernel)",
   "language": "python",
   "name": "python3"
  },
  "language_info": {
   "codemirror_mode": {
    "name": "ipython",
    "version": 3
   },
   "file_extension": ".py",
   "mimetype": "text/x-python",
   "name": "python",
   "nbconvert_exporter": "python",
   "pygments_lexer": "ipython3",
   "version": "3.11.5"
  }
 },
 "nbformat": 4,
 "nbformat_minor": 5
}
