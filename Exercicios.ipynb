{
 "cells": [
  {
   "cell_type": "markdown",
   "id": "74d69d06",
   "metadata": {},
   "source": [
    "Enunciado 1 \n",
    "\n",
    "Um parque de diversões tem 3 atrações principais: o carrossel, piscina de bolinhas e montanha russa. Para poder participar de uma atração a pessoa deve cumprir as seguintes condições: \n",
    "\n",
    "Carrossel: altura mínima de 1,00m e idade mínima de 3 anos. \n",
    "\n",
    "Piscina de bolinhas: idade entre 4 e 9 anos e máximo de 1,30m de altura. \n",
    "\n",
    "Montanha-russa: altura mínima de 1,10m. \n",
    "\n",
    "O fiscal de cada atração verificará o ano de nascimento da pessoa e altura para liberar o acesso para uma pessoa. Faça uma função em python que receba o ano de nascimento e altura da pessoa e informe quais as atrações que a pessoa pode participar."
   ]
  },
  {
   "cell_type": "code",
   "execution_count": null,
   "id": "84d04b7c",
   "metadata": {},
   "outputs": [],
   "source": [
    "altura = float(input('Insira sua altura: '))\n",
    "ano = int(input('Insira seu ano de nascimento: '))\n",
    "\n",
    "idade = 2023 - ano\n",
    "\n",
    "# validação carrossel  \n",
    "\n",
    "if altura >= 1.00 and idade >= 3:\n",
    "    print('Carrossel liberado.')\n",
    "\n",
    "\n",
    "# piscina_bolinhas\n",
    "\n",
    "if 4 <= idade <= 9 and altura <= 1.30: #coloquei a variavel idade entre min e max para que se refira as duas\n",
    "    print('Piscina de bolinhas liberada.')\n",
    "\n",
    "# montanha_russa\n",
    "\n",
    "if altura >= 1.10:\n",
    "   print('Montanha-russa liberada.')\n"
   ]
  },
  {
   "cell_type": "markdown",
   "id": "3bbe6c96",
   "metadata": {},
   "source": [
    "Enunciado 2 \n",
    "\n",
    "Peça ao usuário para entrar com um número e faça uma função que retorne o fatorial dele como resposta. \n",
    "\n",
    "O fatorial de um número é o resultado da multiplicação de todos os números que o antecedem a partir de 1 até o número fornecido. \n",
    "\n",
    "Atenção, fatorial só vale para números positivos! Exemplo: fatorial de 4 = 1 * 2 * 3 * 4 = 24"
   ]
  },
  {
   "cell_type": "code",
   "execution_count": 3,
   "id": "8812d7e3",
   "metadata": {},
   "outputs": [
    {
     "name": "stdout",
     "output_type": "stream",
     "text": [
      "Insira um número: 20\n",
      "2432902008176640000\n"
     ]
    }
   ],
   "source": [
    "numero = int(input('Insira um número: '))\n",
    "\n",
    "resultado = 1 # incia com valor 1 pois a multiplicação por 1 não alterar o valor do n° e tb serve p/ armezenar o resultado do fatorial\n",
    "count = 1 # para determinar que: conte de 1 em 1\n",
    "\n",
    "while count <= numero: # o loop continua enquanto o numero for menor ou igual que o count, que é 1\n",
    "    resultado *= count # resultado  = resultado * count\n",
    "    count += 1 # count = count + 1 \n",
    "    \n",
    "print(resultado)"
   ]
  },
  {
   "cell_type": "markdown",
   "id": "749f2217",
   "metadata": {},
   "source": [
    "Enunciado 3 \n",
    "\n",
    "Dado um número fornecido pelo usuário, faça um programa que teste se é número primo e imprima na tela. Além disso, exiba uma lista de divisores do número testado. \n",
    "\n",
    "Um número primo é divisível somente por 1 e por ele mesmo. \n",
    "\n",
    "Seu programa deve ser funcional para qualquer número até o 100. 13 é divisível somente por 1 e ele mesmo (13), então é primo. 25 é divisível por 1, 5 e ele mesmo (25), então NÃO é primo."
   ]
  },
  {
   "cell_type": "code",
   "execution_count": null,
   "id": "a2665ca3",
   "metadata": {},
   "outputs": [],
   "source": [
    "numero = int(input('Insira um número: ))\n",
    "                   \n",
    "resultado = 1\n",
    "                   \n",
    "if count = numero or resultado\n",
    "                   \n",
    "\n",
    "                   \n"
   ]
  }
 ],
 "metadata": {
  "kernelspec": {
   "display_name": "Python 3 (ipykernel)",
   "language": "python",
   "name": "python3"
  },
  "language_info": {
   "codemirror_mode": {
    "name": "ipython",
    "version": 3
   },
   "file_extension": ".py",
   "mimetype": "text/x-python",
   "name": "python",
   "nbconvert_exporter": "python",
   "pygments_lexer": "ipython3",
   "version": "3.11.5"
  }
 },
 "nbformat": 4,
 "nbformat_minor": 5
}
