{
 "cells": [
  {
   "cell_type": "code",
   "execution_count": 5,
   "id": "48c877e6",
   "metadata": {
    "scrolled": true
   },
   "outputs": [
    {
     "name": "stdout",
     "output_type": "stream",
     "text": [
      "idade: 20\n"
     ]
    }
   ],
   "source": [
    "idade = int(input('idade: '))\n"
   ]
  },
  {
   "cell_type": "code",
   "execution_count": 6,
   "id": "bd14c9bb",
   "metadata": {},
   "outputs": [
    {
     "data": {
      "text/plain": [
       "int"
      ]
     },
     "execution_count": 6,
     "metadata": {},
     "output_type": "execute_result"
    }
   ],
   "source": [
    "type(idade)"
   ]
  },
  {
   "cell_type": "code",
   "execution_count": 7,
   "id": "4f86b453",
   "metadata": {},
   "outputs": [
    {
     "data": {
      "text/plain": [
       "'20.0'"
      ]
     },
     "execution_count": 7,
     "metadata": {},
     "output_type": "execute_result"
    }
   ],
   "source": [
    "str(float(idade))"
   ]
  },
  {
   "cell_type": "code",
   "execution_count": 9,
   "id": "3d550ab8",
   "metadata": {},
   "outputs": [
    {
     "data": {
      "text/plain": [
       "123"
      ]
     },
     "execution_count": 9,
     "metadata": {},
     "output_type": "execute_result"
    }
   ],
   "source": [
    "int('00123') # para comentar mais linha \"\"\"3 aspas\"\"\""
   ]
  },
  {
   "cell_type": "code",
   "execution_count": 16,
   "id": "1219f523",
   "metadata": {},
   "outputs": [
    {
     "name": "stdout",
     "output_type": "stream",
     "text": [
      "podemos pular \\n linhas se quisermos\n"
     ]
    }
   ],
   "source": [
    "print('podemos pular \\\\n linhas se quisermos') #usando duas \\\\ ele lê como string o \\n"
   ]
  },
  {
   "cell_type": "code",
   "execution_count": null,
   "id": "45eaed16",
   "metadata": {},
   "outputs": [],
   "source": [
    "print # tab para auto-complete\n"
   ]
  },
  {
   "cell_type": "code",
   "execution_count": 19,
   "id": "f08a75ed",
   "metadata": {},
   "outputs": [
    {
     "name": "stdout",
     "output_type": "stream",
     "text": [
      "\"\"\n"
     ]
    }
   ],
   "source": [
    "print('\"\"') #teste"
   ]
  },
  {
   "cell_type": "code",
   "execution_count": 20,
   "id": "279526eb",
   "metadata": {},
   "outputs": [
    {
     "data": {
      "text/plain": [
       "'text'"
      ]
     },
     "execution_count": 20,
     "metadata": {},
     "output_type": "execute_result"
    }
   ],
   "source": [
    "\"text\" #no jupyter a ultima linha da celula funciona parecido com o print - coloca o texto como aspas simples"
   ]
  },
  {
   "cell_type": "code",
   "execution_count": 23,
   "id": "f0ce5330",
   "metadata": {},
   "outputs": [
    {
     "name": "stdout",
     "output_type": "stream",
     "text": [
      "texto2\n"
     ]
    },
    {
     "data": {
      "text/plain": [
       "'texto1'"
      ]
     },
     "execution_count": 23,
     "metadata": {},
     "output_type": "execute_result"
    }
   ],
   "source": [
    "print('texto2')\n",
    "'texto1'"
   ]
  },
  {
   "cell_type": "code",
   "execution_count": 25,
   "id": "ef2b3c97",
   "metadata": {},
   "outputs": [
    {
     "name": "stdout",
     "output_type": "stream",
     "text": [
      "podemos usar \"end\" para finalizar, é util em condicinoais."
     ]
    }
   ],
   "source": [
    "print('podemos usar \"end\" para finalizar, é util em condicinoais' , end='.')"
   ]
  },
  {
   "cell_type": "code",
   "execution_count": 34,
   "id": "893c8982",
   "metadata": {},
   "outputs": [
    {
     "name": "stdout",
     "output_type": "stream",
     "text": [
      "Insira seu nome: Natalia\n",
      "insira seu sobrenome: Loeblein\n",
      "Insira sua idade: 24\n",
      "Insira seu hobby: carro\n",
      "Olá, eu sou Natalia Loeblein e tenho 24 anos e meu hobby é carro."
     ]
    }
   ],
   "source": [
    "nome = input('Insira seu nome: ')\n",
    "sobrenome = input('insira seu sobrenome: ')\n",
    "idade = int(input('Insira sua idade: '))\n",
    "hobby = input('Insira seu hobby: ')\n",
    "\n",
    "# print('Olá,', nome , sobrenome , 'você tem', idade, 'anos', end='.' )\n",
    "\n",
    "print(f'Olá, eu sou {nome} {sobrenome} e tenho {idade} anos e meu hobby é {hobby}', end='.') # usando f (f string) na frente"
   ]
  },
  {
   "cell_type": "code",
   "execution_count": 30,
   "id": "aab3d79c",
   "metadata": {},
   "outputs": [
    {
     "name": "stdout",
     "output_type": "stream",
     "text": [
      "Olá, eu sou {nome} {sobrenome} e tenho {idade} anos\n"
     ]
    }
   ],
   "source": [
    "print('Olá, eu sou {nome} {sobrenome} e tenho {idade} anos')"
   ]
  },
  {
   "cell_type": "code",
   "execution_count": 39,
   "id": "4685e776",
   "metadata": {},
   "outputs": [
    {
     "name": "stdout",
     "output_type": "stream",
     "text": [
      "Enter your name: nati\n",
      "Enter your age: 24\n",
      "What's your hobby? carro\n",
      "Hey, nati, good to know that you have 24.0 years and your hobby is carro\n"
     ]
    }
   ],
   "source": [
    "name = input(\"Enter your name: \")\n",
    "age = float(input(\"Enter your age: \"))\n",
    "hobby = input(\"What's your hobby? \")\n",
    "\n",
    "print(f\"Hey, {name}, good to know that you have {age} years and your hobby is {hobby}\")"
   ]
  },
  {
   "cell_type": "code",
   "execution_count": null,
   "id": "bba85ab1",
   "metadata": {},
   "outputs": [],
   "source": []
  }
 ],
 "metadata": {
  "kernelspec": {
   "display_name": "Python 3 (ipykernel)",
   "language": "python",
   "name": "python3"
  },
  "language_info": {
   "codemirror_mode": {
    "name": "ipython",
    "version": 3
   },
   "file_extension": ".py",
   "mimetype": "text/x-python",
   "name": "python",
   "nbconvert_exporter": "python",
   "pygments_lexer": "ipython3",
   "version": "3.11.5"
  }
 },
 "nbformat": 4,
 "nbformat_minor": 5
}
