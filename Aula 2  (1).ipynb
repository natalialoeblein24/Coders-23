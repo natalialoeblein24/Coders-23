{
 "cells": [
  {
   "cell_type": "code",
   "execution_count": 5,
   "id": "2986267d",
   "metadata": {
    "scrolled": true
   },
   "outputs": [
    {
     "name": "stdout",
     "output_type": "stream",
     "text": [
      "idade: 20\n"
     ]
    }
   ],
   "source": [
    "idade = int(input('idade: '))\n"
   ]
  },
  {
   "cell_type": "code",
   "execution_count": 6,
   "id": "1cf8c0d3",
   "metadata": {},
   "outputs": [
    {
     "data": {
      "text/plain": [
       "int"
      ]
     },
     "execution_count": 6,
     "metadata": {},
     "output_type": "execute_result"
    }
   ],
   "source": [
    "type(idade)"
   ]
  },
  {
   "cell_type": "code",
   "execution_count": 7,
   "id": "1cc337d9",
   "metadata": {},
   "outputs": [
    {
     "data": {
      "text/plain": [
       "'20.0'"
      ]
     },
     "execution_count": 7,
     "metadata": {},
     "output_type": "execute_result"
    }
   ],
   "source": [
    "str(float(idade))"
   ]
  },
  {
   "cell_type": "code",
   "execution_count": 9,
   "id": "fbdcc6f2",
   "metadata": {},
   "outputs": [
    {
     "data": {
      "text/plain": [
       "123"
      ]
     },
     "execution_count": 9,
     "metadata": {},
     "output_type": "execute_result"
    }
   ],
   "source": [
    "int('00123') # para comentar mais linha \"\"\"3 aspas\"\"\""
   ]
  },
  {
   "cell_type": "code",
   "execution_count": 16,
   "id": "1b57db1f",
   "metadata": {},
   "outputs": [
    {
     "name": "stdout",
     "output_type": "stream",
     "text": [
      "podemos pular \\n linhas se quisermos\n"
     ]
    }
   ],
   "source": [
    "print('podemos pular \\\\n linhas se quisermos') #usando duas \\\\ ele lê como string o \\n"
   ]
  },
  {
   "cell_type": "code",
   "execution_count": null,
   "id": "9a8a3a18",
   "metadata": {},
   "outputs": [],
   "source": [
    "print # tab para auto-complete\n"
   ]
  },
  {
   "cell_type": "code",
   "execution_count": 19,
   "id": "485d3c16",
   "metadata": {},
   "outputs": [
    {
     "name": "stdout",
     "output_type": "stream",
     "text": [
      "\"\"\n"
     ]
    }
   ],
   "source": [
    "print('\"\"') #teste"
   ]
  },
  {
   "cell_type": "code",
   "execution_count": 20,
   "id": "c6b3e233",
   "metadata": {},
   "outputs": [
    {
     "data": {
      "text/plain": [
       "'text'"
      ]
     },
     "execution_count": 20,
     "metadata": {},
     "output_type": "execute_result"
    }
   ],
   "source": [
    "\"text\" #no jupyter a ultima linha da celula funciona parecido com o print - coloca o texto como aspas simples"
   ]
  },
  {
   "cell_type": "code",
   "execution_count": 23,
   "id": "e9111e52",
   "metadata": {},
   "outputs": [
    {
     "name": "stdout",
     "output_type": "stream",
     "text": [
      "texto2\n"
     ]
    },
    {
     "data": {
      "text/plain": [
       "'texto1'"
      ]
     },
     "execution_count": 23,
     "metadata": {},
     "output_type": "execute_result"
    }
   ],
   "source": [
    "print('texto2')\n",
    "'texto1'"
   ]
  },
  {
   "cell_type": "code",
   "execution_count": 25,
   "id": "6ee36832",
   "metadata": {},
   "outputs": [
    {
     "name": "stdout",
     "output_type": "stream",
     "text": [
      "podemos usar \"end\" para finalizar, é util em condicinoais."
     ]
    }
   ],
   "source": [
    "print('podemos usar \"end\" para finalizar, é util em condicinoais' , end='.')"
   ]
  },
  {
   "cell_type": "code",
   "execution_count": 34,
   "id": "9968b83b",
   "metadata": {},
   "outputs": [
    {
     "name": "stdout",
     "output_type": "stream",
     "text": [
      "Insira seu nome: Natalia\n",
      "insira seu sobrenome: Loeblein\n",
      "Insira sua idade: 24\n",
      "Insira seu hobby: carro\n",
      "Olá, eu sou Natalia Loeblein e tenho 24 anos e meu hobby é carro."
     ]
    }
   ],
   "source": [
    "nome = input('Insira seu nome: ')\n",
    "sobrenome = input('insira seu sobrenome: ')\n",
    "idade = int(input('Insira sua idade: '))\n",
    "hobby = input('Insira seu hobby: ')\n",
    "\n",
    "# print('Olá,', nome , sobrenome , 'você tem', idade, 'anos', end='.' )\n",
    "\n",
    "print(f'Olá, eu sou {nome} {sobrenome} e tenho {idade} anos e meu hobby é {hobby}', end='.') # usando f (f string) na frente"
   ]
  },
  {
   "cell_type": "code",
   "execution_count": 30,
   "id": "11a1e82b",
   "metadata": {},
   "outputs": [
    {
     "name": "stdout",
     "output_type": "stream",
     "text": [
      "Olá, eu sou {nome} {sobrenome} e tenho {idade} anos\n"
     ]
    }
   ],
   "source": [
    "print('Olá, eu sou {nome} {sobrenome} e tenho {idade} anos')"
   ]
  },
  {
   "cell_type": "code",
   "execution_count": 39,
   "id": "613ac6e5",
   "metadata": {},
   "outputs": [
    {
     "name": "stdout",
     "output_type": "stream",
     "text": [
      "Enter your name: nati\n",
      "Enter your age: 24\n",
      "What's your hobby? carro\n",
      "Hey, nati, good to know that you have 24.0 years and your hobby is carro\n"
     ]
    }
   ],
   "source": [
    "name = input(\"Enter your name: \")\n",
    "age = float(input(\"Enter your age: \"))\n",
    "hobby = input(\"What's your hobby? \")\n",
    "\n",
    "print(f\"Hey, {name}, good to know that you have {age} years and your hobby is {hobby}\")"
   ]
  },
  {
   "cell_type": "code",
   "execution_count": 40,
   "id": "f5ea051f",
   "metadata": {},
   "outputs": [
    {
     "name": "stdout",
     "output_type": "stream",
     "text": [
      "25\n"
     ]
    }
   ],
   "source": [
    "valor_01 = 10\n",
    "valor_02 = 15\n",
    "print(valor_01+valor_02) #operador somando variaveis"
   ]
  },
  {
   "cell_type": "code",
   "execution_count": null,
   "id": "75a732d3",
   "metadata": {},
   "outputs": [],
   "source": [
    "\"\"\"\n",
    "**Operadores de atribuição**\n",
    "\n",
    "|     Operador    |     Equivalente a    |\n",
    "|:---------------:|----------------------|\n",
    "|         =       |     x =   1          |\n",
    "|        +=       |     x =   x + 1      |\n",
    "|        -=       |     x =   x - 1      |\n",
    "|        *=       |     x =   x * 1      |\n",
    "|        /=       |     x =   x / 1      |\n",
    "|        %=       |     x =   x % 1      |\"\"\""
   ]
  },
  {
   "cell_type": "code",
   "execution_count": null,
   "id": "1ef3bd8d",
   "metadata": {},
   "outputs": [],
   "source": [
    "  \"**Operadores de comparação**\\n\",\n",
    "    \"\\n\",\n",
    "    \"|     Operador    |           Nome          |     Função                                              |\\n\",\n",
    "    \"|:---------------:|:-----------------------:|---------------------------------------------------------|\\n\",\n",
    "    \"|        ==       |         Igual   a       |     Verifica   se um valor é igual ao outro             |\\n\",\n",
    "    \"|        !=       |      Diferente   de     |     Verifica   se um valor é diferente ao outro         |\\n\",\n",
    "    \"|         >       |        Maior   que      |     Verifica   se um valor é maior que outro            |\\n\",\n",
    "    \"|        >=       |     Maior   ou igual    |     Verifica   se um valor é maior ou igual ao outro    |\\n\",\n",
    "    \"|         <       |        Menor   que      |     Verifica   se um valor é menor que outro            |\\n\",\n",
    "    \"|        <=       |     Menor   ou igual    |     Verifica   se um valor é menor ou igual ao outro    |\""
   ]
  },
  {
   "cell_type": "code",
   "execution_count": 46,
   "id": "1dd792e2",
   "metadata": {},
   "outputs": [
    {
     "name": "stdout",
     "output_type": "stream",
     "text": [
      "valor de x =  7\n"
     ]
    }
   ],
   "source": [
    "x = 5\n",
    "\n",
    "x += 1 # equivale a x = x +1 \n",
    "\n",
    "x += 1 # o x passou a ser '6' na linha anterior, por isso o próximo resultado é = 7\n",
    "\n",
    "print('valor de x = ',x)"
   ]
  },
  {
   "cell_type": "code",
   "execution_count": 54,
   "id": "7814bf4f",
   "metadata": {},
   "outputs": [
    {
     "name": "stdout",
     "output_type": "stream",
     "text": [
      "Insira seu ano de nascimento: 1999\n",
      "Sua idade é 24\n"
     ]
    }
   ],
   "source": [
    "ano = int(input(\"Insira seu ano de nascimento: \"))\n",
    "ano_atual = 2023 \n",
    "\n",
    "idade = ano_atual - ano\n",
    "\n",
    "print(f'Sua idade é {idade}')"
   ]
  },
  {
   "cell_type": "code",
   "execution_count": 55,
   "id": "27369e77",
   "metadata": {},
   "outputs": [
    {
     "name": "stdout",
     "output_type": "stream",
     "text": [
      "True\n"
     ]
    }
   ],
   "source": [
    "print (3 > 2)"
   ]
  },
  {
   "cell_type": "code",
   "execution_count": 56,
   "id": "b278bce4",
   "metadata": {},
   "outputs": [
    {
     "name": "stdout",
     "output_type": "stream",
     "text": [
      "False\n"
     ]
    }
   ],
   "source": [
    "print(3 == 2 ) # = é atribuição e não comparação"
   ]
  },
  {
   "cell_type": "code",
   "execution_count": 85,
   "id": "67969d26",
   "metadata": {},
   "outputs": [
    {
     "name": "stdout",
     "output_type": "stream",
     "text": [
      "Insira a nota da prova 1: 3\n",
      "Insira a nota da prova 2: 4\n",
      "Insira a nota da prova 3: 2\n",
      "Insira a nota da prova 4: 2\n",
      "A média do aluno é: 2.75. Houve aprovação: False\n",
      "O aluno está: Reprovado\n"
     ]
    }
   ],
   "source": [
    "#Exercício 1\n",
    "\n",
    "\"\"\"Imagine que você está implementando um sistema para verificar se os alunos de uma turma estudantil passaram na disciplina \n",
    "ou não. Para isso solicite que o usuário insira as notas das 4 provas realizadas por um estudante e calcule a média. \n",
    "Após isso, emita uma resposta booleana (True ou False) \n",
    "se o estudante passou na disciplina pensando que a média mínima para aprovação é que seja pelo menos 5.\"\"\"\n",
    "\n",
    "prova_01 = float(input('Insira a nota da prova 1: '))\n",
    "prova_02 = float(input('Insira a nota da prova 2: '))\n",
    "prova_03 = float(input('Insira a nota da prova 3: '))\n",
    "prova_04 = float(input('Insira a nota da prova 4: '))\n",
    "\n",
    "media_min = 5\n",
    "\n",
    "media = (prova_01+prova_02+prova_03+prova_04)/4\n",
    "\n",
    "resultado = (media >= media_min)\n",
    "print(f'A média do aluno é: {media}. Houve aprovação? {resultado}')\n",
    "\n",
    "if resultado:\n",
    "    print('O aluno está: Aprovado')\n",
    "    \n",
    "else:\n",
    "    print('O aluno está: Reprovado')\n"
   ]
  },
  {
   "cell_type": "code",
   "execution_count": 69,
   "id": "8eb39bbd",
   "metadata": {},
   "outputs": [
    {
     "name": "stdout",
     "output_type": "stream",
     "text": [
      "Insira seu peso: 47\n",
      "Insira sua altura: 1.59\n",
      "Seu IMC é de: 18.59\n"
     ]
    }
   ],
   "source": [
    "#Exercício 2\n",
    "\n",
    "\"\"\"Crie um algoritmo que calcule o IMC (indice de massa corporal). \n",
    "O IMC é calculado com a formula PESO/(ALTURA^2). \n",
    "Para isso, coloque informações nas variaveis e ao final apresente o resultado como no ex \"O IMC é 18\"\"\"\n",
    "\n",
    "peso = float(input('Insira seu peso: '))\n",
    "altura = float(input('Insira sua altura: '))\n",
    "\n",
    "resultado = peso / (altura**2)\n",
    "\n",
    "print(f'Seu IMC é de: {resultado:.2f}') # uso de f-string para especificar a quantidade de casas decimais\n",
    "\n",
    "\"\"\"\n",
    ":: Indica a especificação de um formato.\n",
    ".2: Especifica a quantidade de casas decimais.\n",
    "f: Indica que é um número de ponto flutuante.\n",
    "\"\"\"\n",
    "# obs.: se fosse n° inteiro, eu usaria \"d\" ao invés do \"f\"\n",
    "\n"
   ]
  },
  {
   "cell_type": "code",
   "execution_count": 61,
   "id": "031461ab",
   "metadata": {},
   "outputs": [
    {
     "name": "stdout",
     "output_type": "stream",
     "text": [
      "Insira o valor de x: 1\n",
      "Insira o valor de y: 2\n",
      "O resultado é 9\n"
     ]
    }
   ],
   "source": [
    "#Exercício 3\n",
    "\n",
    "\"\"\"Escreva um algortimo que calcule (x+y)*(x+y). Os valores de x e y devem ser inseridos pelo usuário\"\"\"\n",
    "\n",
    "x = int(input(\"Insira o valor de x: \"))\n",
    "y = int(input(\"Insira o valor de y: \"))\n",
    "\n",
    "# print((x+y)*(x+y))\n",
    "\n",
    "#ou\n",
    "\n",
    "soma = x+y\n",
    "resultado = soma * soma\n",
    "\n",
    "print(f'O resultado é {resultado}')\n"
   ]
  },
  {
   "cell_type": "code",
   "execution_count": null,
   "id": "f133266d",
   "metadata": {},
   "outputs": [],
   "source": []
  }
 ],
 "metadata": {
  "kernelspec": {
   "display_name": "Python 3 (ipykernel)",
   "language": "python",
   "name": "python3"
  },
  "language_info": {
   "codemirror_mode": {
    "name": "ipython",
    "version": 3
   },
   "file_extension": ".py",
   "mimetype": "text/x-python",
   "name": "python",
   "nbconvert_exporter": "python",
   "pygments_lexer": "ipython3",
   "version": "3.11.5"
  }
 },
 "nbformat": 4,
 "nbformat_minor": 5
}
