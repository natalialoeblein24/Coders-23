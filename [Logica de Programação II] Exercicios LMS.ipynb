{
 "cells": [
  {
   "cell_type": "code",
   "execution_count": null,
   "id": "246a7075",
   "metadata": {},
   "outputs": [],
   "source": [
    "def adicionarElemento(listaA):\n",
    "    listaA.insert(2, 42)\n",
    "    print(listaA)\n",
    "    \n"
   ]
  },
  {
   "cell_type": "code",
   "execution_count": null,
   "id": "e2a0a095",
   "metadata": {},
   "outputs": [],
   "source": [
    "def adicionarElemento(listaA):\n",
    "    listaA.insert(2, 42)\n",
    "    print(listaA)\n",
    "\n",
    "# Execução:\n",
    "listaA = [1, 2, 3, 4]\n",
    "adicionarElemento(listaA)\n"
   ]
  },
  {
   "cell_type": "code",
   "execution_count": null,
   "id": "bc83b999",
   "metadata": {},
   "outputs": [],
   "source": [
    "def adicionarElemento(listaA):\n",
    "\tlistaA.insert(2, 42)\n",
    "\tprint(listaA)\n",
    "\n",
    "listaA = [1, 2, 3, 4]\n",
    "adicionarElemento(listaA)"
   ]
  },
  {
   "cell_type": "code",
   "execution_count": null,
   "id": "5832b54b",
   "metadata": {},
   "outputs": [],
   "source": [
    "lista = [1,2,3,4,5,6]"
   ]
  },
  {
   "cell_type": "code",
   "execution_count": null,
   "id": "f09a2cd6",
   "metadata": {},
   "outputs": [],
   "source": [
    "def retornaPenultimoEQuartoElementodeLista(tuplaA):\n",
    "    lista.index[-2,3]\n",
    "    print(lista)\n",
    "    \n",
    "lista = [1,2,3,4,5,6]\n",
    "retornaPenultimoEQuartoElementodeLista(lista)\n",
    "    # utiliza-se a indexação numérica (lista[n]), informando qual a posição (n), ou seja, seu índice"
   ]
  },
  {
   "cell_type": "code",
   "execution_count": null,
   "id": "2c16d45c",
   "metadata": {},
   "outputs": [],
   "source": [
    "def retornaPenultimoEQuartoElementoDeLista(lista):\n",
    "    # Verifica se a lista tem pelo menos 4 elementos\n",
    "    if len(lista) >= 4:\n",
    "        # Retorna uma tupla contendo o penúltimo e o quarto elemento\n",
    "        return (lista[-2], lista[3])\n",
    "    else:\n",
    "        # Caso a lista não tenha elementos suficientes\n",
    "        return \"A lista não possui elementos suficientes.\"\n",
    "\n",
    "# Exemplo de uso:\n",
    "minha_lista = [1, 2, 3, 4, 5, 6]\n",
    "resultado = retornaPen\n"
   ]
  },
  {
   "cell_type": "code",
   "execution_count": 7,
   "id": "b3495efd",
   "metadata": {},
   "outputs": [
    {
     "name": "stdout",
     "output_type": "stream",
     "text": [
      "(5, 4)\n"
     ]
    }
   ],
   "source": [
    "def retornaPenultimoEQuartoElementoDeLista(lista):\n",
    "    return (lista[-2], lista[3])\n",
    "\n",
    "minha_lista = [1, 2, 3, 4, 5, 6]\n",
    "resultado = retornaPenultimoEQuartoElementoDeLista(minha_lista)\n",
    "print(resultado)"
   ]
  },
  {
   "cell_type": "code",
   "execution_count": 6,
   "id": "bcbd8d89",
   "metadata": {},
   "outputs": [
    {
     "name": "stdout",
     "output_type": "stream",
     "text": [
      "(5, 4)\n"
     ]
    }
   ],
   "source": []
  },
  {
   "cell_type": "code",
   "execution_count": null,
   "id": "64de81cf",
   "metadata": {},
   "outputs": [],
   "source": []
  }
 ],
 "metadata": {
  "kernelspec": {
   "display_name": "Python 3 (ipykernel)",
   "language": "python",
   "name": "python3"
  },
  "language_info": {
   "codemirror_mode": {
    "name": "ipython",
    "version": 3
   },
   "file_extension": ".py",
   "mimetype": "text/x-python",
   "name": "python",
   "nbconvert_exporter": "python",
   "pygments_lexer": "ipython3",
   "version": "3.11.5"
  }
 },
 "nbformat": 4,
 "nbformat_minor": 5
}
